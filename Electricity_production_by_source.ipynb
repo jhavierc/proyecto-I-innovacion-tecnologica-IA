{
 "cells": [
  {
   "cell_type": "markdown",
   "id": "65ca6a74-a4c4-4b7d-94a4-97c25f37d4a9",
   "metadata": {},
   "source": [
    "# Electricity production by source"
   ]
  },
  {
   "cell_type": "markdown",
   "id": "da8d5de9-9ed1-4634-9867-2a2ae03ffa8b",
   "metadata": {},
   "source": [
    "### About Dataset\n",
    "\n",
    "This dataset provides information on changes in electricity generation by country and the type of energy source used for electricity production, including coal, natural gas, petroleum, nuclear power, and various renewable sources.\n",
    "\n",
    "### The contents of the dataset\n",
    "\n",
    "Dataset has 8 264 rows and 12 columns.\n",
    "Keys for columns:\n",
    "\n",
    "- Entity - name of country or territory and the world (total for all countries);\n",
    "- Code - the ISO country codes;\n",
    "- Year - years from 1965 to 2023;\n",
    "\n",
    "### The amount of electricity produced per year (measured in terawatt-hours) by sources:\n",
    "\n",
    "- Coal;\n",
    "- Gas;\n",
    "- Nuclear;\n",
    "- Hydro;\n",
    "- Solar;\n",
    "- Oil;\n",
    "- Wind;\n",
    "- Bioenergy;\n",
    "- Other renewables (include waste, geothermal and wave and tidal energy)."
   ]
  },
  {
   "cell_type": "markdown",
   "id": "0f28c813-0513-4058-996a-63a94ab0b4bf",
   "metadata": {},
   "source": [
    "## Importación de librerías"
   ]
  },
  {
   "cell_type": "code",
   "execution_count": 7,
   "id": "dac779bc-18b4-4f4c-b4c3-bae0cecdeb81",
   "metadata": {},
   "outputs": [],
   "source": [
    "import pandas as pd\n",
    "import numpy as np\n",
    "import matplotlib.pyplot as plt\n",
    "import seaborn as sns\n",
    "\n",
    "import statsmodels.api as sm\n",
    "import statsmodels.formula.api as smf\n",
    "from sklearn.model_selection import train_test_split\n",
    "from sklearn.metrics import mean_squared_error, mean_absolute_error, r2_score\n",
    "from sklearn.linear_model import LinearRegression\n",
    "from sklearn.preprocessing import PolynomialFeatures\n",
    "from sklearn.pipeline import Pipeline\n",
    "from sklearn import metrics\n",
    "\n",
    "%matplotlib inline\n",
    "\n",
    "from sklearn import tree, datasets, metrics\n",
    "from sklearn.metrics import confusion_matrix, ConfusionMatrixDisplay\n",
    "from sklearn.model_selection import cross_val_score, cross_validate \n",
    "from sklearn.model_selection import KFold, StratifiedKFold, RepeatedKFold, LeaveOneOut \n",
    "import math\n",
    "\n",
    "import warnings\n",
    "warnings.filterwarnings('ignore')"
   ]
  },
  {
   "cell_type": "markdown",
   "id": "c74ec9d9-4379-4359-a176-030cbfd76e1a",
   "metadata": {},
   "source": [
    "## Carga de Dataset"
   ]
  },
  {
   "cell_type": "code",
   "execution_count": 2,
   "id": "9ca0293b-68c2-4f2c-b443-8d6651060181",
   "metadata": {},
   "outputs": [],
   "source": [
    "df = pd.read_csv(\"/Users/kamiro/proyecto-1-innovacion-tecnologica-IA/Electricity production by source.csv\")"
   ]
  },
  {
   "cell_type": "markdown",
   "id": "81232620-1436-409b-8373-b8749567d388",
   "metadata": {},
   "source": [
    "## Entendimiento de los datos"
   ]
  },
  {
   "cell_type": "code",
   "execution_count": 15,
   "id": "9c22f3e0-659b-4562-a756-27aead71beb0",
   "metadata": {},
   "outputs": [
    {
     "data": {
      "text/html": [
       "<div>\n",
       "<style scoped>\n",
       "    .dataframe tbody tr th:only-of-type {\n",
       "        vertical-align: middle;\n",
       "    }\n",
       "\n",
       "    .dataframe tbody tr th {\n",
       "        vertical-align: top;\n",
       "    }\n",
       "\n",
       "    .dataframe thead th {\n",
       "        text-align: right;\n",
       "    }\n",
       "</style>\n",
       "<table border=\"1\" class=\"dataframe\">\n",
       "  <thead>\n",
       "    <tr style=\"text-align: right;\">\n",
       "      <th></th>\n",
       "      <th>Entity</th>\n",
       "      <th>Code</th>\n",
       "      <th>Year</th>\n",
       "      <th>Coal</th>\n",
       "      <th>Gas</th>\n",
       "      <th>Nuclear</th>\n",
       "      <th>Hydro</th>\n",
       "      <th>Solar</th>\n",
       "      <th>Oil</th>\n",
       "      <th>Wind</th>\n",
       "      <th>Bioenergy</th>\n",
       "      <th>Other renewables</th>\n",
       "    </tr>\n",
       "  </thead>\n",
       "  <tbody>\n",
       "    <tr>\n",
       "      <th>0</th>\n",
       "      <td>Afghanistan</td>\n",
       "      <td>AFG</td>\n",
       "      <td>2000</td>\n",
       "      <td>0.00</td>\n",
       "      <td>0.0</td>\n",
       "      <td>0.0</td>\n",
       "      <td>0.31</td>\n",
       "      <td>0.0</td>\n",
       "      <td>0.17</td>\n",
       "      <td>0.0</td>\n",
       "      <td>0.0</td>\n",
       "      <td>0.0</td>\n",
       "    </tr>\n",
       "    <tr>\n",
       "      <th>1</th>\n",
       "      <td>Afghanistan</td>\n",
       "      <td>AFG</td>\n",
       "      <td>2001</td>\n",
       "      <td>0.04</td>\n",
       "      <td>0.0</td>\n",
       "      <td>0.0</td>\n",
       "      <td>0.50</td>\n",
       "      <td>0.0</td>\n",
       "      <td>0.15</td>\n",
       "      <td>0.0</td>\n",
       "      <td>0.0</td>\n",
       "      <td>0.0</td>\n",
       "    </tr>\n",
       "    <tr>\n",
       "      <th>2</th>\n",
       "      <td>Afghanistan</td>\n",
       "      <td>AFG</td>\n",
       "      <td>2002</td>\n",
       "      <td>0.04</td>\n",
       "      <td>0.0</td>\n",
       "      <td>0.0</td>\n",
       "      <td>0.56</td>\n",
       "      <td>0.0</td>\n",
       "      <td>0.11</td>\n",
       "      <td>0.0</td>\n",
       "      <td>0.0</td>\n",
       "      <td>0.0</td>\n",
       "    </tr>\n",
       "    <tr>\n",
       "      <th>3</th>\n",
       "      <td>Afghanistan</td>\n",
       "      <td>AFG</td>\n",
       "      <td>2003</td>\n",
       "      <td>0.09</td>\n",
       "      <td>0.0</td>\n",
       "      <td>0.0</td>\n",
       "      <td>0.63</td>\n",
       "      <td>0.0</td>\n",
       "      <td>0.19</td>\n",
       "      <td>0.0</td>\n",
       "      <td>0.0</td>\n",
       "      <td>0.0</td>\n",
       "    </tr>\n",
       "    <tr>\n",
       "      <th>4</th>\n",
       "      <td>Afghanistan</td>\n",
       "      <td>AFG</td>\n",
       "      <td>2004</td>\n",
       "      <td>0.06</td>\n",
       "      <td>0.0</td>\n",
       "      <td>0.0</td>\n",
       "      <td>0.56</td>\n",
       "      <td>0.0</td>\n",
       "      <td>0.17</td>\n",
       "      <td>0.0</td>\n",
       "      <td>0.0</td>\n",
       "      <td>0.0</td>\n",
       "    </tr>\n",
       "  </tbody>\n",
       "</table>\n",
       "</div>"
      ],
      "text/plain": [
       "        Entity Code  Year  Coal  Gas  Nuclear  Hydro  Solar   Oil  Wind  \\\n",
       "0  Afghanistan  AFG  2000  0.00  0.0      0.0   0.31    0.0  0.17   0.0   \n",
       "1  Afghanistan  AFG  2001  0.04  0.0      0.0   0.50    0.0  0.15   0.0   \n",
       "2  Afghanistan  AFG  2002  0.04  0.0      0.0   0.56    0.0  0.11   0.0   \n",
       "3  Afghanistan  AFG  2003  0.09  0.0      0.0   0.63    0.0  0.19   0.0   \n",
       "4  Afghanistan  AFG  2004  0.06  0.0      0.0   0.56    0.0  0.17   0.0   \n",
       "\n",
       "   Bioenergy  Other renewables  \n",
       "0        0.0               0.0  \n",
       "1        0.0               0.0  \n",
       "2        0.0               0.0  \n",
       "3        0.0               0.0  \n",
       "4        0.0               0.0  "
      ]
     },
     "execution_count": 15,
     "metadata": {},
     "output_type": "execute_result"
    }
   ],
   "source": [
    "# Ver primeras filas\n",
    "df.head()"
   ]
  },
  {
   "cell_type": "code",
   "execution_count": 16,
   "id": "0e28b707-296f-4386-b2fb-66f53b5f4e3d",
   "metadata": {},
   "outputs": [
    {
     "data": {
      "text/html": [
       "<div>\n",
       "<style scoped>\n",
       "    .dataframe tbody tr th:only-of-type {\n",
       "        vertical-align: middle;\n",
       "    }\n",
       "\n",
       "    .dataframe tbody tr th {\n",
       "        vertical-align: top;\n",
       "    }\n",
       "\n",
       "    .dataframe thead th {\n",
       "        text-align: right;\n",
       "    }\n",
       "</style>\n",
       "<table border=\"1\" class=\"dataframe\">\n",
       "  <thead>\n",
       "    <tr style=\"text-align: right;\">\n",
       "      <th></th>\n",
       "      <th>Entity</th>\n",
       "      <th>Code</th>\n",
       "      <th>Year</th>\n",
       "      <th>Coal</th>\n",
       "      <th>Gas</th>\n",
       "      <th>Nuclear</th>\n",
       "      <th>Hydro</th>\n",
       "      <th>Solar</th>\n",
       "      <th>Oil</th>\n",
       "      <th>Wind</th>\n",
       "      <th>Bioenergy</th>\n",
       "      <th>Other renewables</th>\n",
       "    </tr>\n",
       "  </thead>\n",
       "  <tbody>\n",
       "    <tr>\n",
       "      <th>8258</th>\n",
       "      <td>Zimbabwe</td>\n",
       "      <td>ZWE</td>\n",
       "      <td>1996</td>\n",
       "      <td>NaN</td>\n",
       "      <td>NaN</td>\n",
       "      <td>0.0</td>\n",
       "      <td>NaN</td>\n",
       "      <td>NaN</td>\n",
       "      <td>NaN</td>\n",
       "      <td>NaN</td>\n",
       "      <td>NaN</td>\n",
       "      <td>NaN</td>\n",
       "    </tr>\n",
       "    <tr>\n",
       "      <th>8259</th>\n",
       "      <td>Zimbabwe</td>\n",
       "      <td>ZWE</td>\n",
       "      <td>1997</td>\n",
       "      <td>NaN</td>\n",
       "      <td>NaN</td>\n",
       "      <td>0.0</td>\n",
       "      <td>NaN</td>\n",
       "      <td>NaN</td>\n",
       "      <td>NaN</td>\n",
       "      <td>NaN</td>\n",
       "      <td>NaN</td>\n",
       "      <td>NaN</td>\n",
       "    </tr>\n",
       "    <tr>\n",
       "      <th>8260</th>\n",
       "      <td>Zimbabwe</td>\n",
       "      <td>ZWE</td>\n",
       "      <td>1998</td>\n",
       "      <td>NaN</td>\n",
       "      <td>NaN</td>\n",
       "      <td>0.0</td>\n",
       "      <td>NaN</td>\n",
       "      <td>NaN</td>\n",
       "      <td>NaN</td>\n",
       "      <td>NaN</td>\n",
       "      <td>NaN</td>\n",
       "      <td>NaN</td>\n",
       "    </tr>\n",
       "    <tr>\n",
       "      <th>8261</th>\n",
       "      <td>Zimbabwe</td>\n",
       "      <td>ZWE</td>\n",
       "      <td>1999</td>\n",
       "      <td>NaN</td>\n",
       "      <td>NaN</td>\n",
       "      <td>0.0</td>\n",
       "      <td>NaN</td>\n",
       "      <td>NaN</td>\n",
       "      <td>NaN</td>\n",
       "      <td>NaN</td>\n",
       "      <td>NaN</td>\n",
       "      <td>NaN</td>\n",
       "    </tr>\n",
       "    <tr>\n",
       "      <th>8262</th>\n",
       "      <td>Zimbabwe</td>\n",
       "      <td>ZWE</td>\n",
       "      <td>2023</td>\n",
       "      <td>NaN</td>\n",
       "      <td>NaN</td>\n",
       "      <td>0.0</td>\n",
       "      <td>NaN</td>\n",
       "      <td>NaN</td>\n",
       "      <td>NaN</td>\n",
       "      <td>NaN</td>\n",
       "      <td>NaN</td>\n",
       "      <td>NaN</td>\n",
       "    </tr>\n",
       "  </tbody>\n",
       "</table>\n",
       "</div>"
      ],
      "text/plain": [
       "        Entity Code  Year  Coal  Gas  Nuclear  Hydro  Solar  Oil  Wind  \\\n",
       "8258  Zimbabwe  ZWE  1996   NaN  NaN      0.0    NaN    NaN  NaN   NaN   \n",
       "8259  Zimbabwe  ZWE  1997   NaN  NaN      0.0    NaN    NaN  NaN   NaN   \n",
       "8260  Zimbabwe  ZWE  1998   NaN  NaN      0.0    NaN    NaN  NaN   NaN   \n",
       "8261  Zimbabwe  ZWE  1999   NaN  NaN      0.0    NaN    NaN  NaN   NaN   \n",
       "8262  Zimbabwe  ZWE  2023   NaN  NaN      0.0    NaN    NaN  NaN   NaN   \n",
       "\n",
       "      Bioenergy  Other renewables  \n",
       "8258        NaN               NaN  \n",
       "8259        NaN               NaN  \n",
       "8260        NaN               NaN  \n",
       "8261        NaN               NaN  \n",
       "8262        NaN               NaN  "
      ]
     },
     "execution_count": 16,
     "metadata": {},
     "output_type": "execute_result"
    }
   ],
   "source": [
    "# Ver últimas filas\n",
    "df.tail()"
   ]
  },
  {
   "cell_type": "code",
   "execution_count": 17,
   "id": "8f53c245-5f39-485f-ac49-01078800b616",
   "metadata": {},
   "outputs": [
    {
     "data": {
      "text/plain": [
       "(8263, 12)"
      ]
     },
     "execution_count": 17,
     "metadata": {},
     "output_type": "execute_result"
    }
   ],
   "source": [
    "# Ver tamaño del dataset\n",
    "df.shape"
   ]
  },
  {
   "cell_type": "code",
   "execution_count": 18,
   "id": "a18f6c85-dc29-4160-bd24-637bbc4b1997",
   "metadata": {},
   "outputs": [
    {
     "name": "stdout",
     "output_type": "stream",
     "text": [
      "\n",
      "Información general del dataset:\n",
      "<class 'pandas.core.frame.DataFrame'>\n",
      "RangeIndex: 8263 entries, 0 to 8262\n",
      "Data columns (total 12 columns):\n",
      " #   Column            Non-Null Count  Dtype  \n",
      "---  ------            --------------  -----  \n",
      " 0   Entity            8263 non-null   object \n",
      " 1   Code              8263 non-null   object \n",
      " 2   Year              8263 non-null   int64  \n",
      " 3   Coal              5692 non-null   float64\n",
      " 4   Gas               5626 non-null   float64\n",
      " 5   Nuclear           8156 non-null   float64\n",
      " 6   Hydro             7462 non-null   float64\n",
      " 7   Solar             6668 non-null   float64\n",
      " 8   Oil               5736 non-null   float64\n",
      " 9   Wind              6697 non-null   float64\n",
      " 10  Bioenergy         5317 non-null   float64\n",
      " 11  Other renewables  4753 non-null   float64\n",
      "dtypes: float64(9), int64(1), object(2)\n",
      "memory usage: 774.8+ KB\n"
     ]
    }
   ],
   "source": [
    "# Información general\n",
    "print(\"\\nInformación general del dataset:\")\n",
    "df.info()"
   ]
  },
  {
   "cell_type": "code",
   "execution_count": 19,
   "id": "fba1da92-0424-4885-b5b3-ddcdac102e45",
   "metadata": {},
   "outputs": [
    {
     "name": "stdout",
     "output_type": "stream",
     "text": [
      "\n",
      "📊 Estadísticas descriptivas:\n",
      "           Entity  Code         Year          Coal          Gas      Nuclear  \\\n",
      "count        8263  8263  8263.000000   5692.000000  5626.000000  8156.000000   \n",
      "unique        219   219          NaN           NaN          NaN          NaN   \n",
      "top     Singapore   SGP          NaN           NaN          NaN          NaN   \n",
      "freq           59    59          NaN           NaN          NaN          NaN   \n",
      "mean          NaN   NaN  2000.502965     95.788839    50.917572    25.246391   \n",
      "std           NaN   NaN    15.911960    668.019549   353.908374   181.624466   \n",
      "min           NaN   NaN  1965.000000      0.000000     0.000000     0.000000   \n",
      "25%           NaN   NaN  1989.000000      0.000000     0.000000     0.000000   \n",
      "50%           NaN   NaN  2004.000000      0.000000     0.500000     0.000000   \n",
      "75%           NaN   NaN  2013.000000      7.622500    14.487500     0.000000   \n",
      "max           NaN   NaN  2023.000000  10467.930000  6622.930000  2762.240000   \n",
      "\n",
      "              Hydro        Solar          Oil         Wind    Bioenergy  \\\n",
      "count   7462.000000  6668.000000  5736.000000  6697.000000  5317.000000   \n",
      "unique          NaN          NaN          NaN          NaN          NaN   \n",
      "top             NaN          NaN          NaN          NaN          NaN   \n",
      "freq            NaN          NaN          NaN          NaN          NaN   \n",
      "mean      38.828433     2.326702    15.183445     5.190941     3.475960   \n",
      "std      246.747493    35.940195    98.186891    64.300019    29.208175   \n",
      "min        0.000000     0.000000     0.000000     0.000000     0.000000   \n",
      "25%        0.025000     0.000000     0.090000     0.000000     0.000000   \n",
      "50%        1.630000     0.000000     0.760000     0.000000     0.000000   \n",
      "75%       10.430000     0.010000     4.790000     0.020000     0.290000   \n",
      "max     4344.050000  1629.900000  1366.022600  2304.440000   678.740000   \n",
      "\n",
      "        Other renewables  \n",
      "count        4753.000000  \n",
      "unique               NaN  \n",
      "top                  NaN  \n",
      "freq                 NaN  \n",
      "mean            0.659954  \n",
      "std             5.042745  \n",
      "min             0.000000  \n",
      "25%             0.000000  \n",
      "50%             0.000000  \n",
      "75%             0.000000  \n",
      "max            89.810000  \n"
     ]
    }
   ],
   "source": [
    "# Estadísticas descriptivas\n",
    "print(\"\\n📊 Estadísticas descriptivas:\")\n",
    "print(df.describe(include=\"all\"))  # include=\"all\" para incluir categóricas"
   ]
  },
  {
   "cell_type": "code",
   "execution_count": 20,
   "id": "1c832fab-baca-44cc-a940-4bc1eb59fb10",
   "metadata": {},
   "outputs": [
    {
     "name": "stdout",
     "output_type": "stream",
     "text": [
      "\n",
      "🔍 Valores nulos por columna:\n",
      "Entity                 0\n",
      "Code                   0\n",
      "Year                   0\n",
      "Coal                2571\n",
      "Gas                 2637\n",
      "Nuclear              107\n",
      "Hydro                801\n",
      "Solar               1595\n",
      "Oil                 2527\n",
      "Wind                1566\n",
      "Bioenergy           2946\n",
      "Other renewables    3510\n",
      "dtype: int64\n"
     ]
    }
   ],
   "source": [
    "# Valores nulos\n",
    "print(\"\\n🔍 Valores nulos por columna:\")\n",
    "print(df.isnull().sum())"
   ]
  },
  {
   "cell_type": "code",
   "execution_count": 22,
   "id": "58f31653-26dc-49e6-a3e2-c55eca3e9475",
   "metadata": {},
   "outputs": [
    {
     "name": "stdout",
     "output_type": "stream",
     "text": [
      "\n",
      "🔍 Filas duplicadas: 0\n"
     ]
    }
   ],
   "source": [
    "# Filas duplicadas\n",
    "print(f\"\\n🔍 Filas duplicadas: {df.duplicated().sum()}\")"
   ]
  },
  {
   "cell_type": "code",
   "execution_count": 26,
   "id": "58f3cd64-7c3e-49f9-8c47-e87b6d572c92",
   "metadata": {},
   "outputs": [
    {
     "name": "stdout",
     "output_type": "stream",
     "text": [
      "\n",
      "🔍 Filas con espacios indebidos:\n",
      "Empty DataFrame\n",
      "Columns: [Entity, Code, Year, Coal, Gas, Nuclear, Hydro, Solar, Oil, Wind, Bioenergy, Other renewables]\n",
      "Index: []\n"
     ]
    }
   ],
   "source": [
    "# Identificar espacios extras (dobles, al inicio o al final)\n",
    "def tiene_espacios(valor):\n",
    "    if isinstance(valor, str):\n",
    "        return valor != valor.strip() or \"  \" in valor\n",
    "    return False\n",
    "\n",
    "print(\"\\n🔍 Filas con espacios indebidos:\")\n",
    "print(df[df.map(tiene_espacios).any(axis=1)])"
   ]
  },
  {
   "cell_type": "code",
   "execution_count": 28,
   "id": "105adba5-41bc-4652-9e87-c9f10c9038fe",
   "metadata": {},
   "outputs": [
    {
     "name": "stdout",
     "output_type": "stream",
     "text": [
      "\n",
      "🔍 Número de valores atípicos por columna:\n",
      "Year                   0\n",
      "Coal                1108\n",
      "Gas                  847\n",
      "Nuclear             1585\n",
      "Hydro               1075\n",
      "Solar               1359\n",
      "Oil                  835\n",
      "Wind                1496\n",
      "Bioenergy            979\n",
      "Other renewables     526\n",
      "dtype: int64\n"
     ]
    }
   ],
   "source": [
    "# Filtramos solo columnas numéricas\n",
    "df_num = df.select_dtypes(include=['number'])\n",
    "\n",
    "# Calculamos IQR\n",
    "Q1 = df_num.quantile(0.25)\n",
    "Q3 = df_num.quantile(0.75)\n",
    "IQR = Q3 - Q1\n",
    "\n",
    "# Detectamos outliers\n",
    "outliers = ((df_num < (Q1 - 1.5 * IQR)) | (df_num > (Q3 + 1.5 * IQR)))\n",
    "\n",
    "print(\"\\n🔍 Número de valores atípicos por columna:\")\n",
    "print(outliers.sum())"
   ]
  },
  {
   "cell_type": "code",
   "execution_count": 29,
   "id": "5fce2466-eabe-4abb-8402-ec3f48fac7c5",
   "metadata": {},
   "outputs": [
    {
     "name": "stdout",
     "output_type": "stream",
     "text": [
      "\n",
      "🔍 Tipos de datos detectados:\n",
      "Entity               object\n",
      "Code                 object\n",
      "Year                  int64\n",
      "Coal                float64\n",
      "Gas                 float64\n",
      "Nuclear             float64\n",
      "Hydro               float64\n",
      "Solar               float64\n",
      "Oil                 float64\n",
      "Wind                float64\n",
      "Bioenergy           float64\n",
      "Other renewables    float64\n",
      "dtype: object\n"
     ]
    }
   ],
   "source": [
    "# Tipos de datos incorrectos\n",
    "print(\"\\n🔍 Tipos de datos detectados:\")\n",
    "print(df.dtypes)"
   ]
  },
  {
   "cell_type": "code",
   "execution_count": null,
   "id": "478549c5-3012-4d8c-bfc1-8913a5cc7f38",
   "metadata": {},
   "outputs": [],
   "source": []
  },
  {
   "cell_type": "code",
   "execution_count": null,
   "id": "29f3eaef-95f9-45a3-bf92-2c9966524f9c",
   "metadata": {},
   "outputs": [],
   "source": []
  },
  {
   "cell_type": "code",
   "execution_count": null,
   "id": "9aca73c8-38ef-415a-85c2-7754f6d8ec95",
   "metadata": {},
   "outputs": [],
   "source": []
  },
  {
   "cell_type": "code",
   "execution_count": null,
   "id": "93110ffb-0fea-4c12-b599-8dd571853ddd",
   "metadata": {},
   "outputs": [],
   "source": []
  },
  {
   "cell_type": "code",
   "execution_count": null,
   "id": "012c85ce-e804-4241-a7aa-6d5831a47c74",
   "metadata": {},
   "outputs": [],
   "source": []
  },
  {
   "cell_type": "code",
   "execution_count": null,
   "id": "7642371e-a3f9-43b1-9aba-1055b65231b7",
   "metadata": {},
   "outputs": [],
   "source": []
  },
  {
   "cell_type": "code",
   "execution_count": null,
   "id": "310e1eff-48db-488b-ae5c-f2d8ef64f098",
   "metadata": {},
   "outputs": [],
   "source": []
  },
  {
   "cell_type": "code",
   "execution_count": null,
   "id": "cd72c25e-a2f0-4afa-a1ff-e117d18bbb76",
   "metadata": {},
   "outputs": [],
   "source": []
  },
  {
   "cell_type": "code",
   "execution_count": null,
   "id": "a80ac51e-cb2f-49be-b414-0f1f5a305002",
   "metadata": {},
   "outputs": [],
   "source": []
  },
  {
   "cell_type": "code",
   "execution_count": null,
   "id": "5442d28a-60cf-42da-9278-11d6980f1a3e",
   "metadata": {},
   "outputs": [],
   "source": []
  },
  {
   "cell_type": "code",
   "execution_count": null,
   "id": "16a0a6e8-fc45-4fec-973e-0826198d029c",
   "metadata": {},
   "outputs": [],
   "source": []
  },
  {
   "cell_type": "code",
   "execution_count": null,
   "id": "b0cd1729-175e-4ff5-897d-68487b4bb87d",
   "metadata": {},
   "outputs": [],
   "source": []
  },
  {
   "cell_type": "code",
   "execution_count": null,
   "id": "45f1f967-db82-429a-85ad-81d494f5e9ef",
   "metadata": {},
   "outputs": [],
   "source": []
  },
  {
   "cell_type": "code",
   "execution_count": null,
   "id": "1e2fd5f1-ddd2-4ab3-aaa1-cfd838f142d6",
   "metadata": {},
   "outputs": [],
   "source": []
  },
  {
   "cell_type": "code",
   "execution_count": null,
   "id": "36de98ac-a1ad-47d5-a45d-8a97864b2506",
   "metadata": {},
   "outputs": [],
   "source": []
  },
  {
   "cell_type": "code",
   "execution_count": null,
   "id": "5223ba62-d2de-4d4f-961f-ba4c67009f70",
   "metadata": {},
   "outputs": [],
   "source": []
  },
  {
   "cell_type": "code",
   "execution_count": null,
   "id": "7ada5060-f986-4371-9d7c-2cbacd770d00",
   "metadata": {},
   "outputs": [],
   "source": []
  },
  {
   "cell_type": "code",
   "execution_count": null,
   "id": "41954b7a-c4be-475b-b377-cc27e87af22f",
   "metadata": {},
   "outputs": [],
   "source": []
  }
 ],
 "metadata": {
  "kernelspec": {
   "display_name": "Python [conda env:base] *",
   "language": "python",
   "name": "conda-base-py"
  },
  "language_info": {
   "codemirror_mode": {
    "name": "ipython",
    "version": 3
   },
   "file_extension": ".py",
   "mimetype": "text/x-python",
   "name": "python",
   "nbconvert_exporter": "python",
   "pygments_lexer": "ipython3",
   "version": "3.13.5"
  }
 },
 "nbformat": 4,
 "nbformat_minor": 5
}
